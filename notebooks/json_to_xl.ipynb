{
 "cells": [
  {
   "cell_type": "code",
   "execution_count": null,
   "id": "77cc7d81",
   "metadata": {},
   "outputs": [],
   "source": [
    "# pip install pandas openpyxl"
   ]
  },
  {
   "cell_type": "code",
   "execution_count": 3,
   "id": "a6462bf6",
   "metadata": {},
   "outputs": [],
   "source": [
    "import pandas as pd\n",
    "import json\n",
    "from openpyxl import load_workbook\n",
    "from openpyxl.utils.dataframe import dataframe_to_rows\n",
    "from openpyxl.styles import PatternFill"
   ]
  },
  {
   "cell_type": "code",
   "execution_count": 4,
   "id": "fe7a1d6c",
   "metadata": {},
   "outputs": [],
   "source": [
    "# Load the JSON data from the file\n",
    "try:\n",
    "    with open('data1.json', 'r') as f:\n",
    "        json_data = json.load(f)\n",
    "except FileNotFoundError:\n",
    "    print(\"Error: 'data.json' not found. Make sure the file is in the same directory as your notebook.\")\n",
    "    exit()\n"
   ]
  },
  {
   "cell_type": "code",
   "execution_count": 9,
   "id": "91d2be7f",
   "metadata": {},
   "outputs": [],
   "source": [
    "all_rows = []\n",
    "\n",
    "# Process each day's data\n",
    "for day_data in json_data['data']:\n",
    "    date = day_data['date']\n",
    "    for unrealised_trade in day_data['unrealised']:\n",
    "        row = {\n",
    "            \"Date\": date,\n",
    "            \"Contract\": \"-\".join(map(str, unrealised_trade['contract'])),\n",
    "            \"Lots\": unrealised_trade['lots'],\n",
    "            \"Daily Action\": unrealised_trade['daily_action'],\n",
    "            \"Entry Price\": unrealised_trade['debug_info']['entry_price'],\n",
    "            \"Closing Price\": unrealised_trade['debug_info']['closing_price'],\n",
    "            \"Market Lot\": unrealised_trade['debug_info']['market_lot'],\n",
    "            \"PNL Calculation\": unrealised_trade['debug_info']['pnl_calculation'],\n",
    "            \"PNL\": unrealised_trade['pnl'],\n",
    "            \"Type\": \"Unrealised\"\n",
    "        }\n",
    "        all_rows.append(row)\n",
    "    for realised_trade in day_data['realised']:\n",
    "        debug_info = realised_trade.get('debug_info', {}) # Get debug_info, default to an empty dictionary if missing\n",
    "        row = {\n",
    "            \"Date\": date,\n",
    "            \"Contract\": \"-\".join(map(str, realised_trade['contract'])),\n",
    "            \"Lots\": realised_trade['lots'],\n",
    "            \"Daily Action\": realised_trade.get('daily_action'),\n",
    "            \"Entry Price\": debug_info.get('entry_price'),\n",
    "            \"Exit Price\": debug_info.get('exit_price'),\n",
    "            \"Market Lot\": debug_info.get('market_lot'),\n",
    "            \"PNL Calculation\": debug_info.get('pnl_calculation'),\n",
    "            \"PNL\": realised_trade['pnl'],\n",
    "            \"Type\": \"Realised\"\n",
    "        }\n",
    "        all_rows.append(row)"
   ]
  },
  {
   "cell_type": "code",
   "execution_count": 10,
   "id": "af8b0e42",
   "metadata": {},
   "outputs": [],
   "source": [
    "# Create a Pandas DataFrame\n",
    "df = pd.DataFrame(all_rows)"
   ]
  },
  {
   "cell_type": "code",
   "execution_count": 11,
   "id": "01934ad8",
   "metadata": {},
   "outputs": [],
   "source": [
    "# Save the DataFrame to an Excel file\n",
    "excel_filename = 'trading_data1.xlsx'\n",
    "df.to_excel(excel_filename, index=False)"
   ]
  },
  {
   "cell_type": "code",
   "execution_count": 12,
   "id": "7c9434d6",
   "metadata": {},
   "outputs": [],
   "source": [
    "# Load the workbook to add color formatting\n",
    "workbook = load_workbook(excel_filename)\n",
    "sheet = workbook.active"
   ]
  },
  {
   "cell_type": "code",
   "execution_count": 13,
   "id": "1f6dacfc",
   "metadata": {},
   "outputs": [],
   "source": [
    "# Define fill colors\n",
    "green_fill = PatternFill(start_color='A9F5A9', end_color='A9F5A9', fill_type='solid')\n",
    "red_fill = PatternFill(start_color='F5A9A9', end_color='F5A9A9', fill_type='solid')\n"
   ]
  },
  {
   "cell_type": "code",
   "execution_count": 14,
   "id": "1dba93ec",
   "metadata": {},
   "outputs": [],
   "source": [
    "# Apply color formatting to the 'PNL' column (assuming 'PNL' is the 9th column, index 8)\n",
    "for row_idx, row in enumerate(sheet.iter_rows(min_row=2, values_only=False)): # Start from the second row (skipping header)\n",
    "    try:\n",
    "        pnl_value = row[8].value\n",
    "        if isinstance(pnl_value, (int, float)):\n",
    "            if pnl_value > 0:\n",
    "                row[8].fill = green_fill\n",
    "            elif pnl_value < 0:\n",
    "                row[8].fill = red_fill\n",
    "    except IndexError:\n",
    "        print(f\"Warning: Row {row_idx + 2} might not have a 'PNL' column.\")\n",
    "    except TypeError:\n",
    "        print(f\"Warning: Non-numeric value found in PNL column at row {row_idx + 2}.\")\n"
   ]
  },
  {
   "cell_type": "code",
   "execution_count": null,
   "id": "20e7f872",
   "metadata": {},
   "outputs": [
    {
     "name": "stdout",
     "output_type": "stream",
     "text": [
      "Data successfully exported to 'trading_data.xlsx' and 'trading_data_colored.xlsx' with P&L color-coding.\n"
     ]
    }
   ],
   "source": [
    "# Save the modified Excel file\n",
    "workbook.save('trading_data1_colored.xlsx')\n"
   ]
  }
 ],
 "metadata": {
  "kernelspec": {
   "display_name": "Python 3",
   "language": "python",
   "name": "python3"
  },
  "language_info": {
   "codemirror_mode": {
    "name": "ipython",
    "version": 3
   },
   "file_extension": ".py",
   "mimetype": "text/x-python",
   "name": "python",
   "nbconvert_exporter": "python",
   "pygments_lexer": "ipython3",
   "version": "3.12.10"
  }
 },
 "nbformat": 4,
 "nbformat_minor": 5
}
